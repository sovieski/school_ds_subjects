{
  "nbformat": 4,
  "nbformat_minor": 0,
  "metadata": {
    "colab": {
      "provenance": [],
      "collapsed_sections": [],
      "authorship_tag": "ABX9TyPrH1KyohhFWkm4hRvpEi0C",
      "include_colab_link": true
    },
    "kernelspec": {
      "name": "python3",
      "display_name": "Python 3"
    },
    "language_info": {
      "name": "python"
    }
  },
  "cells": [
    {
      "cell_type": "markdown",
      "metadata": {
        "id": "view-in-github",
        "colab_type": "text"
      },
      "source": [
        "<a href=\"https://colab.research.google.com/github/sovieski/school_ds_subjects/blob/main/school_ds__0925_2.ipynb\" target=\"_parent\"><img src=\"https://colab.research.google.com/assets/colab-badge.svg\" alt=\"Open In Colab\"/></a>"
      ]
    },
    {
      "cell_type": "code",
      "execution_count": 72,
      "metadata": {
        "colab": {
          "base_uri": "https://localhost:8080/"
        },
        "id": "nmk3hUFhi0ME",
        "outputId": "3329019e-5978-4113-d9f7-1bad744befaf"
      },
      "outputs": [
        {
          "output_type": "stream",
          "name": "stdout",
          "text": [
            "Looking in indexes: https://pypi.org/simple, https://us-python.pkg.dev/colab-wheels/public/simple/\n",
            "Requirement already satisfied: numpy in /usr/local/lib/python3.7/dist-packages (1.21.6)\n"
          ]
        }
      ],
      "source": [
        "!pip install numpy"
      ]
    },
    {
      "cell_type": "code",
      "source": [
        "import numpy as np"
      ],
      "metadata": {
        "id": "DRSgojGzjQi5"
      },
      "execution_count": 73,
      "outputs": []
    },
    {
      "cell_type": "code",
      "source": [
        "Subjects = ['physics','calculus','poetry','history']\n",
        "Grade = [98,97,85,88]\n",
        "Gradebook=[['physics',98],['calculus',97],['poetry',85],['history',88]]\n",
        "print(Gradebook)\n",
        "Subjects.append('computer_science')\n",
        "Grade.append(100)\n",
        "Gradebook=[['physics',98],['calculus',97],['poetry',85],['history',88],['computer_science',100]]\n",
        "print(Gradebook)\n",
        "Subjects.append('visual arts')\n",
        "Grade.append(93)\n",
        "Gradebook=[['physics',98],['calculus',97],['poetry',85],['history',88],['computer_science',100],['visual arts',93]]\n",
        "print(Gradebook)"
      ],
      "metadata": {
        "colab": {
          "base_uri": "https://localhost:8080/"
        },
        "id": "oYPXFmurjV2g",
        "outputId": "c17d52d5-2c9b-4383-a408-a6490f9ba81c"
      },
      "execution_count": 83,
      "outputs": [
        {
          "output_type": "stream",
          "name": "stdout",
          "text": [
            "[['physics', 98], ['calculus', 97], ['poetry', 85], ['history', 88]]\n",
            "[['physics', 98], ['calculus', 97], ['poetry', 85], ['history', 88], ['computer_science', 100]]\n",
            "[['physics', 98], ['calculus', 97], ['poetry', 85], ['history', 88], ['computer_science', 100], ['visual arts', 93]]\n"
          ]
        }
      ]
    },
    {
      "cell_type": "code",
      "source": [
        "Grade[5] += 5\n",
        "Gradebook[5][1] += 5\n",
        "Gradebook[2].remove(85)\n",
        "Gradebook[2].append(\"pass\")\n",
        "\n",
        "print(Gradebook)"
      ],
      "metadata": {
        "colab": {
          "base_uri": "https://localhost:8080/"
        },
        "id": "00iSt9-WjzIK",
        "outputId": "88fc0388-75d2-4c0e-a4d4-7d252669aa34"
      },
      "execution_count": 84,
      "outputs": [
        {
          "output_type": "stream",
          "name": "stdout",
          "text": [
            "[['physics', 98], ['calculus', 97], ['poetry', 'pass'], ['history', 88], ['computer_science', 100], ['visual arts', 98]]\n"
          ]
        }
      ]
    },
    {
      "cell_type": "code",
      "source": [
        "print(Gradebook)\n",
        "last_semester_gradebook = [[\"politics\", 80], [\"latin\", 96], [\"dance\", 97], [\"architecture\", 65]]\n",
        "print(last_semester_gradebook)\n",
        "full_gradebook = last_semester_gradebook + Gradebook\n",
        "print(full_gradebook)"
      ],
      "metadata": {
        "colab": {
          "base_uri": "https://localhost:8080/"
        },
        "id": "QdwI4zJCkLLC",
        "outputId": "e27cfeec-359b-4e68-8352-d78be28cf521"
      },
      "execution_count": 86,
      "outputs": [
        {
          "output_type": "stream",
          "name": "stdout",
          "text": [
            "[['physics', 98], ['calculus', 97], ['poetry', 'pass'], ['history', 88], ['computer_science', 100], ['visual arts', 98]]\n",
            "[['politics', 80], ['latin', 96], ['dance', 97], ['architecture', 65]]\n",
            "[['politics', 80], ['latin', 96], ['dance', 97], ['architecture', 65], ['physics', 98], ['calculus', 97], ['poetry', 'pass'], ['history', 88], ['computer_science', 100], ['visual arts', 98]]\n"
          ]
        }
      ]
    },
    {
      "cell_type": "code",
      "source": [],
      "metadata": {
        "id": "aHjqtXOhuDN5"
      },
      "execution_count": null,
      "outputs": []
    }
  ]
}