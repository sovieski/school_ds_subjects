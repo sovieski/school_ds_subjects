{
  "nbformat": 4,
  "nbformat_minor": 0,
  "metadata": {
    "colab": {
      "provenance": [],
      "authorship_tag": "ABX9TyO3S+pvm0eox3AwUfaKCTC0",
      "include_colab_link": true
    },
    "kernelspec": {
      "name": "python3",
      "display_name": "Python 3"
    },
    "language_info": {
      "name": "python"
    }
  },
  "cells": [
    {
      "cell_type": "markdown",
      "metadata": {
        "id": "view-in-github",
        "colab_type": "text"
      },
      "source": [
        "<a href=\"https://colab.research.google.com/github/sovieski/school_ds_subjects/blob/main/HW3_data_engineering.ipynb\" target=\"_parent\"><img src=\"https://colab.research.google.com/assets/colab-badge.svg\" alt=\"Open In Colab\"/></a>"
      ]
    },
    {
      "cell_type": "code",
      "execution_count": 153,
      "metadata": {
        "colab": {
          "base_uri": "https://localhost:8080/"
        },
        "id": "fV8LeR20ClYQ",
        "outputId": "ab6e0415-bbba-4a76-8fd5-25fca5bf8ad3"
      },
      "outputs": [
        {
          "output_type": "stream",
          "name": "stdout",
          "text": [
            "Looking in indexes: https://pypi.org/simple, https://us-python.pkg.dev/colab-wheels/public/simple/\n",
            "Requirement already satisfied: numpy in /usr/local/lib/python3.7/dist-packages (1.21.6)\n"
          ]
        }
      ],
      "source": [
        "pip install numpy"
      ]
    },
    {
      "cell_type": "code",
      "source": [
        "import numpy as np"
      ],
      "metadata": {
        "id": "F5IrJE-jC0r4"
      },
      "execution_count": 156,
      "outputs": []
    },
    {
      "cell_type": "code",
      "source": [
        "hairstyles = [\"bouffant\", \"pixie\", \"dreadlocks\", \"crew\", \"bowl\", \"bob\", \"mohawk\", \"flattop\"]\n",
        "prices = [30, 25, 40, 20, 20, 35, 50, 35]\n",
        "last_week = [2, 3, 5, 8, 4, 4, 6, 2]"
      ],
      "metadata": {
        "id": "vd8DWquQC3bU"
      },
      "execution_count": 157,
      "outputs": []
    },
    {
      "cell_type": "code",
      "source": [
        "total_price = 0\n",
        "total_price = sum(prices)\n",
        "print(total_price)\n"
      ],
      "metadata": {
        "colab": {
          "base_uri": "https://localhost:8080/"
        },
        "id": "Z-9DO3HVC7q8",
        "outputId": "f45e8772-01d6-4699-df9c-318f9a6ac843"
      },
      "execution_count": 158,
      "outputs": [
        {
          "output_type": "stream",
          "name": "stdout",
          "text": [
            "255\n"
          ]
        }
      ]
    },
    {
      "cell_type": "code",
      "source": [
        "average_price = 0\n",
        "average_price = total_price/len(prices)\n",
        "print('average_price is',average_price)"
      ],
      "metadata": {
        "colab": {
          "base_uri": "https://localhost:8080/"
        },
        "id": "aHgOt9AXDJLP",
        "outputId": "83c725c7-eca7-4d0b-a7b4-6e5e506dc40a"
      },
      "execution_count": 159,
      "outputs": [
        {
          "output_type": "stream",
          "name": "stdout",
          "text": [
            "average_price is 31.875\n"
          ]
        }
      ]
    },
    {
      "cell_type": "code",
      "source": [
        "new_price = prices\n",
        "new_price = [prices-5 for prices in new_price]\n",
        "print(new_price)"
      ],
      "metadata": {
        "colab": {
          "base_uri": "https://localhost:8080/"
        },
        "id": "Z6aW5QXdDfTU",
        "outputId": "0c97fb4f-3921-4aae-97db-1cff500c7fdf"
      },
      "execution_count": 160,
      "outputs": [
        {
          "output_type": "stream",
          "name": "stdout",
          "text": [
            "[25, 20, 35, 15, 15, 30, 45, 30]\n"
          ]
        }
      ]
    },
    {
      "cell_type": "code",
      "source": [
        "total_revenue = 0"
      ],
      "metadata": {
        "id": "otx6SuXoGmQq"
      },
      "execution_count": 161,
      "outputs": []
    },
    {
      "cell_type": "code",
      "source": [
        "total_revenue = [prices[i]*last_week[i]for i in range(len(hairstyles))]"
      ],
      "metadata": {
        "id": "jzEH5w8GHeOB"
      },
      "execution_count": 190,
      "outputs": []
    },
    {
      "cell_type": "code",
      "source": [
        "print(total_revenue)\n"
      ],
      "metadata": {
        "id": "yhbo9kIVHzT9",
        "colab": {
          "base_uri": "https://localhost:8080/"
        },
        "outputId": "b9f826d5-51db-4798-8381-16ec34a2b33b"
      },
      "execution_count": 187,
      "outputs": [
        {
          "output_type": "stream",
          "name": "stdout",
          "text": [
            "[60, 75, 200, 160, 80, 140, 300, 70]\n"
          ]
        }
      ]
    },
    {
      "cell_type": "code",
      "source": [
        "result = sum(total_revenue)\n",
        "print(result)\n",
        "total_revenue = result"
      ],
      "metadata": {
        "colab": {
          "base_uri": "https://localhost:8080/"
        },
        "id": "ggQXPx2zN0uW",
        "outputId": "06cb2db7-c3c3-4c5c-9306-d4a7aba818d9"
      },
      "execution_count": 191,
      "outputs": [
        {
          "output_type": "stream",
          "name": "stdout",
          "text": [
            "1085\n"
          ]
        }
      ]
    },
    {
      "cell_type": "code",
      "source": [
        "average_daily_revenue = total_revenue/7\n",
        "print('Average daily revenue is',average_daily_revenue)"
      ],
      "metadata": {
        "colab": {
          "base_uri": "https://localhost:8080/"
        },
        "id": "8tZuRZwNpRsO",
        "outputId": "816c987a-71ba-4b60-9e5d-90b6e52415fc"
      },
      "execution_count": 194,
      "outputs": [
        {
          "output_type": "stream",
          "name": "stdout",
          "text": [
            "Average daily revenue is 155.0\n"
          ]
        }
      ]
    },
    {
      "cell_type": "code",
      "source": [
        "cuts_under_30 = [hairstyles[i] for i in range(len(new_price)-1) if new_price[i] < 30]"
      ],
      "metadata": {
        "id": "UAQE7BoWOjx3"
      },
      "execution_count": 199,
      "outputs": []
    },
    {
      "cell_type": "code",
      "source": [
        "print(cuts_under_30)"
      ],
      "metadata": {
        "colab": {
          "base_uri": "https://localhost:8080/"
        },
        "id": "AIpJnjudWDfw",
        "outputId": "5b355198-7a7f-4bc4-85f5-88a817d628e6"
      },
      "execution_count": 200,
      "outputs": [
        {
          "output_type": "stream",
          "name": "stdout",
          "text": [
            "['bouffant', 'pixie', 'crew', 'bowl']\n"
          ]
        }
      ]
    },
    {
      "cell_type": "code",
      "source": [],
      "metadata": {
        "id": "lSfXAFOIWf3c"
      },
      "execution_count": null,
      "outputs": []
    }
  ]
}