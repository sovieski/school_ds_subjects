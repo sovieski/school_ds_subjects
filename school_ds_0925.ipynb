{
  "nbformat": 4,
  "nbformat_minor": 0,
  "metadata": {
    "colab": {
      "provenance": [],
      "collapsed_sections": [],
      "authorship_tag": "ABX9TyMT7FNCR0M//wRDSdb/z5cu",
      "include_colab_link": true
    },
    "kernelspec": {
      "name": "python3",
      "display_name": "Python 3"
    },
    "language_info": {
      "name": "python"
    }
  },
  "cells": [
    {
      "cell_type": "markdown",
      "metadata": {
        "id": "view-in-github",
        "colab_type": "text"
      },
      "source": [
        "<a href=\"https://colab.research.google.com/github/sovieski/school_ds_subjects/blob/main/school_ds_0925.ipynb\" target=\"_parent\"><img src=\"https://colab.research.google.com/assets/colab-badge.svg\" alt=\"Open In Colab\"/></a>"
      ]
    },
    {
      "cell_type": "code",
      "execution_count": null,
      "metadata": {
        "id": "2DnnfBgij52a"
      },
      "outputs": [],
      "source": [
        "lovely_loveseat_description = \"Lovely Loveseat. Tufted polyester blend on wood. 32 inches high x 40 inches wide x 30 inches deep. Red or white.\""
      ]
    },
    {
      "cell_type": "code",
      "source": [
        "lovely_loveseat_price = 254.00"
      ],
      "metadata": {
        "id": "0bb6S3VmkHnT"
      },
      "execution_count": null,
      "outputs": []
    },
    {
      "cell_type": "code",
      "source": [
        "stylish_settee_description = \"stylish_settee_description\""
      ],
      "metadata": {
        "id": "hFMirJxUkRAd"
      },
      "execution_count": null,
      "outputs": []
    },
    {
      "cell_type": "code",
      "source": [
        "stylish_settee_prices = 180.50"
      ],
      "metadata": {
        "id": "LjVwdjUqkWow"
      },
      "execution_count": null,
      "outputs": []
    },
    {
      "cell_type": "code",
      "source": [
        "luxurious_lamp_description = \"Luxurious Lamp. Glass and iron. 36 inches tall. Brown with cream shade.\""
      ],
      "metadata": {
        "id": "nHIaOEqKkev7"
      },
      "execution_count": null,
      "outputs": []
    },
    {
      "cell_type": "code",
      "source": [
        "luxurious_lamp_price = 52.15"
      ],
      "metadata": {
        "id": "NSp4dxdqkkOS"
      },
      "execution_count": null,
      "outputs": []
    },
    {
      "cell_type": "code",
      "source": [
        "sales_tax = .088"
      ],
      "metadata": {
        "id": "pQRE8U0hkpDc"
      },
      "execution_count": null,
      "outputs": []
    },
    {
      "cell_type": "code",
      "source": [
        "customer_one_total = 0"
      ],
      "metadata": {
        "id": "sHNt2ZC6ksyv"
      },
      "execution_count": null,
      "outputs": []
    },
    {
      "cell_type": "code",
      "source": [
        "customer_one_itemization = []"
      ],
      "metadata": {
        "id": "orR4HslGkyjc"
      },
      "execution_count": null,
      "outputs": []
    },
    {
      "cell_type": "code",
      "source": [
        "customer_one_total=0\n",
        "customer_one_total=customer_one_total+lovely_loveseat_price\n",
        "print(customer_one_total)"
      ],
      "metadata": {
        "colab": {
          "base_uri": "https://localhost:8080/"
        },
        "id": "DI24GrsCk3LM",
        "outputId": "5a495890-f645-4da9-8009-41203cb1ef86"
      },
      "execution_count": null,
      "outputs": [
        {
          "output_type": "stream",
          "name": "stdout",
          "text": [
            "254.0\n"
          ]
        }
      ]
    },
    {
      "cell_type": "code",
      "source": [
        "customer_one_itemization=[]\n",
        "customer_one_itemization.append(lovely_loveseat_description)\n",
        "print(customer_one_itemization)"
      ],
      "metadata": {
        "colab": {
          "base_uri": "https://localhost:8080/"
        },
        "id": "L2Cfnxyilur9",
        "outputId": "65e16177-b57b-48c1-8e8f-b5b6b3bc7fce"
      },
      "execution_count": null,
      "outputs": [
        {
          "output_type": "stream",
          "name": "stdout",
          "text": [
            "['lovely_loveseat_description']\n"
          ]
        }
      ]
    },
    {
      "cell_type": "code",
      "source": [
        "customer_one_total=(customer_one_total+luxurious_lamp_price)\n",
        "print(customer_one_total)"
      ],
      "metadata": {
        "colab": {
          "base_uri": "https://localhost:8080/"
        },
        "id": "4Ea2jTwvmMIc",
        "outputId": "96d1556f-e418-4194-a6ef-e55248fef5eb"
      },
      "execution_count": null,
      "outputs": [
        {
          "output_type": "stream",
          "name": "stdout",
          "text": [
            "306.15\n"
          ]
        }
      ]
    },
    {
      "cell_type": "code",
      "source": [
        "customer_one_itemization.append(luxurious_lamp_description)"
      ],
      "metadata": {
        "id": "m6OSYsz5nGVY"
      },
      "execution_count": null,
      "outputs": []
    },
    {
      "cell_type": "code",
      "source": [
        "customer_one_tax=customer_one_total*sales_tax"
      ],
      "metadata": {
        "id": "NMscRxQVr2oz"
      },
      "execution_count": null,
      "outputs": []
    },
    {
      "cell_type": "code",
      "source": [
        "customer_one_total=customer_one_total+customer_one_tax"
      ],
      "metadata": {
        "id": "EpZ33MiKr67r"
      },
      "execution_count": null,
      "outputs": []
    },
    {
      "cell_type": "code",
      "source": [
        "print(\"Customer One Items:\")\n",
        "print(customer_one_itemization)\n",
        "print(\"customer_one_total\")\n",
        "print(customer_one_total)"
      ],
      "metadata": {
        "id": "eRLJLSWfr-pA",
        "outputId": "b4d3fe19-dafb-4818-e9e0-cb9b34d09e60",
        "colab": {
          "base_uri": "https://localhost:8080/"
        }
      },
      "execution_count": null,
      "outputs": [
        {
          "output_type": "stream",
          "name": "stdout",
          "text": [
            "Customer One Items:\n",
            "['Luxurious Lamp. Glass and iron. 36 inches tall. Brown with cream shade.']\n",
            "customer_one_total\n",
            "333.09119999999996\n"
          ]
        }
      ]
    },
    {
      "cell_type": "code",
      "source": [],
      "metadata": {
        "id": "G-1TNkF2sA3k"
      },
      "execution_count": null,
      "outputs": []
    },
    {
      "cell_type": "code",
      "source": [],
      "metadata": {
        "id": "zEn2VnBCiGp8"
      },
      "execution_count": null,
      "outputs": []
    }
  ]
}